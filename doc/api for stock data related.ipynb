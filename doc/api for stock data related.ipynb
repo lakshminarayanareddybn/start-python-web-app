{
 "cells": [
  {
   "cell_type": "code",
   "execution_count": null,
   "id": "b36e90be",
   "metadata": {},
   "outputs": [],
   "source": [
    "- api to read stock data\n",
    "- do some computatioi on stock data and get some values, api for this\n",
    "-\n",
    "-\n",
    "\n",
    "- stock data\n",
    "- utils for read and write in one folder, say python module, as methods\n",
    "- develop controller with api definition\n",
    "- test it\n"
   ]
  }
 ],
 "metadata": {
  "kernelspec": {
   "display_name": "Python 3 (ipykernel)",
   "language": "python",
   "name": "python3"
  },
  "language_info": {
   "codemirror_mode": {
    "name": "ipython",
    "version": 3
   },
   "file_extension": ".py",
   "mimetype": "text/x-python",
   "name": "python",
   "nbconvert_exporter": "python",
   "pygments_lexer": "ipython3",
   "version": "3.9.7"
  }
 },
 "nbformat": 4,
 "nbformat_minor": 5
}
